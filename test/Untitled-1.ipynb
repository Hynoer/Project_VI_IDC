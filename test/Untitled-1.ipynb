{
 "cells": [
  {
   "cell_type": "code",
   "execution_count": 4,
   "metadata": {},
   "outputs": [
    {
     "data": {
      "text/plain": [
       "0    MULTIPOLYGON (((2499226.60910 1118153.38150, 2...\n",
       "1    MULTIPOLYGON (((2499226.60910 1118153.38150, 2...\n",
       "2    MULTIPOLYGON (((2500487.03060 1118790.81660, 2...\n",
       "3    MULTIPOLYGON (((2500487.03060 1118790.81660, 2...\n",
       "4    MULTIPOLYGON (((2499261.38270 1118999.65540, 2...\n",
       "Name: geometry, dtype: geometry"
      ]
     },
     "metadata": {},
     "output_type": "display_data"
    },
    {
     "data": {
      "text/plain": [
       "0    MULTIPOLYGON (((2499226.609 1118153.381, 24992...\n",
       "1    MULTIPOLYGON (((2499226.609 1118153.381, 24992...\n",
       "2    MULTIPOLYGON (((2500487.031 1118790.817, 25004...\n",
       "3    MULTIPOLYGON (((2500487.031 1118790.817, 25004...\n",
       "4    MULTIPOLYGON (((2499261.383 1118999.655, 24992...\n",
       "Name: geometry, dtype: geometry"
      ]
     },
     "metadata": {},
     "output_type": "display_data"
    },
    {
     "data": {
      "text/plain": [
       "0    MULTIPOLYGON (((6.13290 46.20727, 6.13282 46.2...\n",
       "1    MULTIPOLYGON (((6.13290 46.20727, 6.13282 46.2...\n",
       "2    MULTIPOLYGON (((6.14909 46.21319, 6.14903 46.2...\n",
       "3    MULTIPOLYGON (((6.14909 46.21319, 6.14903 46.2...\n",
       "4    MULTIPOLYGON (((6.13317 46.21489, 6.13315 46.2...\n",
       "Name: geometry, dtype: geometry"
      ]
     },
     "metadata": {},
     "output_type": "display_data"
    }
   ],
   "source": [
    "import plotly.express as px\n",
    "import pandas as pd\n",
    "import geojson\n",
    "import json\n",
    "import geopandas as gpd\n",
    "\n",
    "gdf = gpd.read_file(r\"C:\\Users\\denis.iglesias\\Documents\\Project_VI_IDC\\test\\indice3ans_epsg_2056.geojson\")\n",
    "display(gdf['geometry'].head())\n",
    "gdf = gdf.set_crs('epsg:2056', allow_override=True)\n",
    "display(gdf['geometry'].head())\n",
    "gdf = gdf.to_crs('epsg:4326')\n",
    "display(gdf['geometry'].head())\n",
    "\n",
    "gdf.to_file(r\"C:\\Users\\denis.iglesias\\Documents\\Project_VI_IDC\\test\\indice3ans_epsg_4326.geojson\", driver='GeoJSON')  "
   ]
  },
  {
   "cell_type": "code",
   "execution_count": 3,
   "metadata": {},
   "outputs": [],
   "source": [
    "import plotly.express as px\n",
    "import pandas as pd\n",
    "import geojson\n",
    "import json\n",
    "import geopandas as gpd"
   ]
  },
  {
   "cell_type": "code",
   "execution_count": 5,
   "metadata": {},
   "outputs": [],
   "source": [
    "gdf = gpd.read_file(r\"C:\\Users\\denis\\sourcetree\\Project_VI_IDC\\test\\indice3ans_epsg_4326.geojson\")"
   ]
  },
  {
   "cell_type": "code",
   "execution_count": 8,
   "metadata": {},
   "outputs": [],
   "source": [
    "gdf = gdf[['EGID', 'ADRESSE', 'ANNEE', 'SRE', 'INDICE', 'geometry']]"
   ]
  },
  {
   "cell_type": "code",
   "execution_count": 9,
   "metadata": {},
   "outputs": [],
   "source": [
    "gdf.to_file(r\"C:\\Users\\denis.iglesias\\Documents\\Project_VI_IDC\\test\\indice3ans_epsg_4326_light.geojson\", driver='GeoJSON')  "
   ]
  },
  {
   "cell_type": "code",
   "execution_count": 9,
   "metadata": {},
   "outputs": [],
   "source": [
    "with open(r\"C:\\Users\\denis\\sourcetree\\Project_VI_IDC\\test\\indice3ans_epsg_4326_light.geojson\", encoding='latin1') as f:\n",
    "    geojson_idc = geojson.load(f)"
   ]
  },
  {
   "cell_type": "code",
   "execution_count": 24,
   "metadata": {},
   "outputs": [
    {
     "data": {
      "text/plain": [
       "[6.132902, 46.207271]"
      ]
     },
     "metadata": {},
     "output_type": "display_data"
    }
   ],
   "source": [
    "display(geojson_idc['features'][0]['geometry']['coordinates'][0][0][0])"
   ]
  }
 ],
 "metadata": {
  "kernelspec": {
   "display_name": "Python 3.9.12 ('base')",
   "language": "python",
   "name": "python3"
  },
  "language_info": {
   "codemirror_mode": {
    "name": "ipython",
    "version": 3
   },
   "file_extension": ".py",
   "mimetype": "text/x-python",
   "name": "python",
   "nbconvert_exporter": "python",
   "pygments_lexer": "ipython3",
   "version": "3.9.13"
  },
  "orig_nbformat": 4,
  "vscode": {
   "interpreter": {
    "hash": "03cf32b32c52ec67e0ea728ad74aa0b866509d00725fc4599d5e6dd9a3ee024f"
   }
  }
 },
 "nbformat": 4,
 "nbformat_minor": 2
}
