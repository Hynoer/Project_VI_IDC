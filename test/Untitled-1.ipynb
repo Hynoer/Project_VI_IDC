{
 "cells": [
  {
   "cell_type": "code",
   "execution_count": null,
   "metadata": {},
   "outputs": [],
   "source": [
    "import plotly.express as px\n",
    "import pandas as pd\n",
    "import geojson\n",
    "import json\n",
    "import geopandas as gpd\n",
    "\n",
    "gdf = gpd.read_file(r\"C:\\Users\\denis.iglesias\\Documents\\Project_VI_IDC\\test\\indice3ans_epsg_2056.geojson\")\n",
    "display(gdf['geometry'].head())\n",
    "gdf = gdf.set_crs('epsg:2056', allow_override=True)\n",
    "display(gdf['geometry'].head())\n",
    "gdf = gdf.to_crs('epsg:4326')\n",
    "display(gdf['geometry'].head())\n",
    "\n",
    "gdf.to_file(r\"C:\\Users\\denis.iglesias\\Documents\\Project_VI_IDC\\test\\indice3ans_epsg_4326.geojson\", driver='GeoJSON')  "
   ]
  },
  {
   "cell_type": "code",
   "execution_count": null,
   "metadata": {},
   "outputs": [],
   "source": [
    "gdf = gpd.read_file(r\"C:\\Users\\denis\\sourcetree\\Project_VI_IDC\\test\\indice3ans_epsg_4326.geojson\")"
   ]
  },
  {
   "cell_type": "code",
   "execution_count": null,
   "metadata": {},
   "outputs": [],
   "source": [
    "gdf = gdf[['EGID', 'ADRESSE', 'ANNEE', 'SRE', 'INDICE', 'geometry']]"
   ]
  },
  {
   "cell_type": "code",
   "execution_count": null,
   "metadata": {},
   "outputs": [],
   "source": [
    "gdf.to_file(r\"C:\\Users\\denis.iglesias\\Documents\\Project_VI_IDC\\test\\indice3ans_epsg_4326_light.geojson\", driver='GeoJSON')  "
   ]
  },
  {
   "cell_type": "code",
   "execution_count": null,
   "metadata": {},
   "outputs": [],
   "source": [
    "with open(r\"C:\\Users\\denis.iglesias\\sourcetree\\Project_VI_IDC\\test\\indice3ans_epsg_4326_light.geojson\", encoding='latin1') as f:\n",
    "    geojson_idc = geojson.load(f)"
   ]
  },
  {
   "cell_type": "code",
   "execution_count": null,
   "metadata": {},
   "outputs": [],
   "source": [
    "display(geojson_idc['features'][0]['geometry']['coordinates'][0][0][0][1])\n",
    "\n",
    "nom_rue = 'Rue CAVOUR 22'\n",
    "\n",
    "for i in range(1000000):\n",
    "    if geojson_idc['features'][i]['properties']['ADRESSE'] == nom_rue:\n",
    "        coordonnees_rue_lon = geojson_idc['features'][i]['geometry']['coordinates'][0][0][0][0]\n",
    "        coordonnees_rue_lat = geojson_idc['features'][i]['geometry']['coordinates'][0][0][0][1]\n",
    "        break\n",
    "    "
   ]
  },
  {
   "cell_type": "markdown",
   "metadata": {},
   "source": [
    "---"
   ]
  },
  {
   "cell_type": "code",
   "execution_count": 2,
   "metadata": {},
   "outputs": [],
   "source": [
    "import plotly.express as px\n",
    "import pandas as pd\n",
    "import geojson\n",
    "import json\n",
    "import geopandas as gpd\n",
    "import numpy as np\n",
    "import plotly.graph_objects as go"
   ]
  },
  {
   "cell_type": "code",
   "execution_count": null,
   "metadata": {},
   "outputs": [],
   "source": [
    "df1 = pd.read_csv(r\"C:\\Users\\denis.iglesias\\sourcetree\\Project_VI_IDC\\SCANE_INDICE_MOYENNES_3_ANS.csv\", sep=';', usecols= ['ANNEE', 'EGID', 'ADRESSE', 'SRE', 'INDICE'], encoding='latin1')"
   ]
  },
  {
   "cell_type": "code",
   "execution_count": null,
   "metadata": {},
   "outputs": [],
   "source": [
    "nom_rue = 'Rue Adolphe-FONTANEL 7'\n",
    "annee_idc = 2021\n",
    "limite_outlier = 1000\n",
    "\n",
    "# histogramme général selon année choisie\n",
    "df_plot3 = df1[['ANNEE','INDICE']]\n",
    "df_plot3 = df_plot3[df_plot3['INDICE']< limite_outlier]\n",
    "df_plot3 = df_plot3.sort_values(by=['ANNEE'])\n",
    "df_plot3 = df_plot3[df_plot3['ANNEE']==annee_idc]\n",
    "## ajout des traits pour distinguer réno/pas réno\n",
    "def categorise(row):  \n",
    "    if row['INDICE'] < 450:\n",
    "        return 'En dessous du seuil limite légal de 450 MJ/(m²*an)'\n",
    "    else:\n",
    "        return 'Audit énergétique et travaux obligatoires'\n",
    "\n",
    "df_plot3['renovation'] = df_plot3.apply(lambda row: categorise(row), axis=1)\n",
    "# calcul valeur idc sur histogramme\n",
    "idc_annee_calcul = df1[df1['ADRESSE']==nom_rue]\n",
    "idc_annee_calcul = idc_annee_calcul[['ANNEE','INDICE']]\n",
    "idc_annee_calcul = df_plot3.loc[df_plot3['ANNEE'] == annee_idc, 'INDICE'].iloc[0]\n",
    "\n",
    "display(idc_annee_calcul)\n",
    "\n",
    "fig3 = px.histogram(df_plot3, x='INDICE', pattern_shape='renovation', nbins=25, pattern_shape_sequence=[\"\", \"/\"])\n",
    "fig3.add_vline(x=idc_annee_calcul, line_dash = 'dash', line_color = 'black', name=nom_rue)\n",
    "fig3.add_trace(go.Scatter(x=[idc_annee_calcul,idc_annee_calcul], \n",
    "                         y=[500,500], \n",
    "                         mode='lines', \n",
    "                         line=dict(color='black', width=2, dash='dash'),\n",
    "                         name=nom_rue))\n",
    "fig3.update_layout(\n",
    "        title=\"Histogramme des bâtiments du canton \" + str(annee_idc),\n",
    "        xaxis_title=\"Indice de dépense de chaleur [MJ/(m²*an)]\",\n",
    "        yaxis_title=\"Nombre de bâtiments\",\n",
    "        legend_title=\"Légende\",\n",
    "        xaxis = dict(tickmode = 'linear', dtick = 50),\n",
    "        #paper_bgcolor=\"rgba(0,0,0,0)\",\n",
    "        #plot_bgcolor=\"rgba(0,0,0,0)\",\n",
    "        modebar = dict(bgcolor='rgba(0, 0, 0, 0)'),\n",
    "        bargap=0.10\n",
    "        )\n",
    "\n",
    "fig3.update_traces(marker=dict(color=\"teal\",line_color=\"black\"))\n",
    "\n",
    "fig3.show()\n"
   ]
  },
  {
   "cell_type": "code",
   "execution_count": null,
   "metadata": {},
   "outputs": [],
   "source": [
    "nom_rue = 'Rue Adolphe-FONTANEL 7'\n",
    "\n",
    "# filtrer dataframe\n",
    "df_plot2 = df1[df1['ADRESSE']==nom_rue]\n",
    "df_plot2 = df_plot2[['ANNEE','INDICE']]\n",
    "df_plot2 = df_plot2.sort_values(by=['ANNEE'])\n",
    "# bars\n",
    "fig2 = px.bar(df_plot2, x='ANNEE', y='INDICE', text_auto=True)\n",
    "\n",
    "fig2.update_layout(\n",
    "        title=\"Indice de dépense de chaleur [MJ/(m²*an)] le bâtiment situé: \" + str(nom_rue),\n",
    "        xaxis_title=\"Années\",\n",
    "        yaxis_title=\"Indice de dépense de chaleur [MJ/(m²*an)]\",\n",
    "        legend_title=\"Légende\",\n",
    "        xaxis = dict(tickmode = 'linear', dtick = 1),\n",
    "        #paper_bgcolor=\"rgba(0,0,0,0)\",\n",
    "        #plot_bgcolor=\"rgba(0,0,0,0)\",\n",
    "        modebar = dict(bgcolor='rgba(0, 0, 0, 0)')\n",
    "        #bargap=0.0\n",
    "        )\n",
    "fig2.update_traces(marker=dict(\n",
    "    color=\"teal\"),\n",
    "    #line_color=\"black\"),\n",
    "    width = 0.2,\n",
    "    textfont_size=12,\n",
    "    textangle=0,\n",
    "    textposition=\"outside\",\n",
    "    cliponaxis=True)\n",
    "fig2.update_layout(uniformtext_minsize=12, uniformtext_mode='show')\n",
    "fig2.update_yaxes(visible=False)\n",
    "\n",
    "fig2.show()"
   ]
  },
  {
   "cell_type": "markdown",
   "metadata": {},
   "source": [
    "---"
   ]
  },
  {
   "cell_type": "code",
   "execution_count": null,
   "metadata": {},
   "outputs": [],
   "source": [
    "with open(r\"C:\\Users\\denis.iglesias\\sourcetree\\Project_VI_IDC\\test\\indice3ans_epsg_4326_light.geojson\", encoding='latin1') as f:\n",
    "    geojson_idc = geojson.load(f)"
   ]
  },
  {
   "cell_type": "code",
   "execution_count": null,
   "metadata": {},
   "outputs": [],
   "source": [
    "gdf = gpd.read_file(r\"C:\\Users\\denis.iglesias\\sourcetree\\Project_VI_IDC\\test\\indice3ans_epsg_4326.geojson\")"
   ]
  },
  {
   "cell_type": "code",
   "execution_count": null,
   "metadata": {},
   "outputs": [],
   "source": [
    "nom_rue = 'Rue Adolphe-FONTANEL 7'\n",
    "\n",
    "df_rue = df1[df1['ADRESSE']==nom_rue]\n",
    "# boucle pour avoir les coordonnées lat/lon pour le plan zoom\n",
    "for i in range(1000000):\n",
    "        if geojson_idc['features'][i]['properties']['ADRESSE'] == nom_rue:\n",
    "            coordonnees_rue_lon = geojson_idc['features'][i]['geometry']['coordinates'][0][0][0][0]\n",
    "            coordonnees_rue_lat = geojson_idc['features'][i]['geometry']['coordinates'][0][0][0][1]\n",
    "            break\n",
    "# Plan        \n",
    "\n",
    "fig1 = px.choropleth_mapbox(df_rue,\n",
    "                            geojson=geojson_idc,\n",
    "                            color=\"INDICE\",\n",
    "                            locations=\"ADRESSE\",\n",
    "                            featureidkey=\"properties.ADRESSE\",\n",
    "                            center={\"lat\": coordonnees_rue_lat, \"lon\": coordonnees_rue_lon},\n",
    "                            mapbox_style=\"carto-positron\",\n",
    "                            zoom=17)\n",
    "fig1.show()"
   ]
  },
  {
   "cell_type": "code",
   "execution_count": null,
   "metadata": {},
   "outputs": [],
   "source": [
    "nom_rue = 'Rue Adolphe-FONTANEL 7'\n",
    "\n",
    "df_rue = df1[df1['ADRESSE']==nom_rue]\n",
    "# boucle pour avoir les coordonnées lat/lon pour le plan zoom\n",
    "\n",
    "gdf \n",
    "\n",
    "# Plan        \n",
    "\n",
    "fig1 = px.choropleth_mapbox(df_rue,\n",
    "                            geojson=geojson_idc,\n",
    "                            color=\"INDICE\",\n",
    "                            locations=\"ADRESSE\",\n",
    "                            featureidkey=\"properties.ADRESSE\",\n",
    "                            center={\"lat\": coordonnees_rue_lat, \"lon\": coordonnees_rue_lon},\n",
    "                            mapbox_style=\"carto-positron\",\n",
    "                            zoom=17)\n",
    "fig1.show()"
   ]
  },
  {
   "cell_type": "code",
   "execution_count": null,
   "metadata": {},
   "outputs": [],
   "source": [
    "\n",
    "\n",
    "nom_rue = 'Rue Adolphe-FONTANEL 7'\n",
    "\n",
    "gdf1 = gdf[['ADRESSE', 'geometry']]\n",
    "gdf1 = gdf1.drop_duplicates(subset=['ADRESSE'])\n",
    "gdf1 = gdf1.sort_values(by=['ADRESSE'])\n",
    "gdf1 = gdf1[gdf1['ADRESSE']==nom_rue]\n",
    "\n",
    "#display(gdf1.geometry)\n",
    "\n",
    "#import shapely as sh\n",
    "\n",
    "multipolygon = gdf1['geometry'].iloc[0]\n",
    "\n",
    "points = []\n",
    "for polygon in multipolygon:\n",
    "    points.extend(polygon.exterior.coords[:-1])\n",
    "\n",
    "display(gdf1['geometry'].iloc[0])\n",
    "display(points[0][0])"
   ]
  },
  {
   "cell_type": "code",
   "execution_count": null,
   "metadata": {},
   "outputs": [],
   "source": [
    "# mise à jour de df1\n",
    "df1 = pd.read_csv(r\"C:\\Users\\denis.iglesias\\sourcetree\\Project_VI_IDC\\SCANE_INDICE_MOYENNES_3_ANS.csv\", sep=';', usecols= ['ANNEE', 'EGID', 'ADRESSE', 'SRE', 'INDICE'], encoding='latin1')\n",
    "display(df1)\n",
    "df1 = df1.drop_duplicates(subset=['ADRESSE'])\n",
    "display(df1)\n",
    "df1['ADRESSE'].replace('', np.nan, inplace=True)\n",
    "display(df1)\n",
    "df1 = df1.dropna(subset=['ADRESSE'])\n",
    "display(df1)\n",
    "\n",
    "gdf1 = gdf\n",
    "\n",
    "# reno ou pas\n",
    "def categorise(row):\n",
    "    if row['INDICE'] < 450:\n",
    "        return 'En dessous du seuil limite légal de 450 MJ/(m²*an)'\n",
    "    else:\n",
    "        return 'Audit énergétique et travaux obligatoires'\n",
    "gdf1['renovation'] = gdf1.apply(lambda row: categorise(row), axis=1)\n",
    "\n",
    "# lat/lon\n",
    "gdf1_temp = gdf1[['ADRESSE', 'geometry']]\n",
    "\n",
    "def lat_lon(row):\n",
    "    gdf1_temp1 = gdf1_temp[gdf1['ADRESSE']==row['ADRESSE']]\n",
    "    multipolygon = gdf1_temp1['geometry'].iloc[0]\n",
    "    points = []\n",
    "    for polygon in multipolygon:\n",
    "        print(polygon)\n",
    "        if polygon != '':\n",
    "            points.extend(polygon.exterior.coords[:-1])\n",
    "            coordonnees_rue_lon = points[0][0]\n",
    "            coordonnees_rue_lat = points[0][1]\n",
    "return [coordonnees_rue_lon, coordonnees_rue_lon]\n",
    "    \n",
    "gdf1.apply(lambda row: lat_lon(row), axis=1)\n",
    "\n",
    "\n",
    "display(gdf1)\n",
    "'''\n",
    "df_rue = df1[df1['ADRESSE']==nom_rue]\n",
    "# avoir les coordonnées lat/lon pour le plan zoom. Sûrement on peut simplifier\n",
    "gdf1 = gdf[['ADRESSE', 'geometry']]\n",
    "gdf1 = gdf1.drop_duplicates(subset=['ADRESSE'])\n",
    "gdf1 = gdf1.sort_values(by=['ADRESSE'])\n",
    "gdf1 = gdf1[gdf1['ADRESSE']==nom_rue]\n",
    "multipolygon = gdf1['geometry'].iloc[0]\n",
    "\n",
    "points = []\n",
    "for polygon in multipolygon:\n",
    "    points.extend(polygon.exterior.coords[:-1])\n",
    "coordonnees_rue_lon = points[0][0]\n",
    "coordonnees_rue_lat = points[0][1]\n",
    "'''"
   ]
  },
  {
   "cell_type": "code",
   "execution_count": 17,
   "metadata": {},
   "outputs": [
    {
     "data": {
      "text/plain": [
       "335.0"
      ]
     },
     "metadata": {},
     "output_type": "display_data"
    }
   ],
   "source": [
    "df1 = pd.read_csv(r\"C:\\Users\\denis\\sourcetree\\Project_VI_IDC\\SCANE_INDICE_MOYENNES_3_ANS.csv\", sep=';', usecols= ['ANNEE', 'EGID', 'ADRESSE', 'SRE', 'INDICE'], encoding='latin1')\n",
    "\n",
    "\n",
    "nom_rue = 'Rue Adolphe-FONTANEL 7'\n",
    "annee_idc = 2015\n",
    "\n",
    "idc_annee_calcul = df1[['ADRESSE','ANNEE','INDICE']]\n",
    "idc_annee_calcul = idc_annee_calcul[(idc_annee_calcul['ADRESSE']==nom_rue) & (idc_annee_calcul['ANNEE'] == annee_idc)]\n",
    "idc_annee_calcul = idc_annee_calcul.iloc[0][2]\n",
    "display(idc_annee_calcul)"
   ]
  }
 ],
 "metadata": {
  "kernelspec": {
   "display_name": "Python 3.9.13 ('base')",
   "language": "python",
   "name": "python3"
  },
  "language_info": {
   "codemirror_mode": {
    "name": "ipython",
    "version": 3
   },
   "file_extension": ".py",
   "mimetype": "text/x-python",
   "name": "python",
   "nbconvert_exporter": "python",
   "pygments_lexer": "ipython3",
   "version": "3.9.13"
  },
  "orig_nbformat": 4,
  "vscode": {
   "interpreter": {
    "hash": "03cf32b32c52ec67e0ea728ad74aa0b866509d00725fc4599d5e6dd9a3ee024f"
   }
  }
 },
 "nbformat": 4,
 "nbformat_minor": 2
}
