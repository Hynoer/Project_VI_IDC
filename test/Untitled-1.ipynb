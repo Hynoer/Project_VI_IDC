{
 "cells": [
  {
   "cell_type": "code",
   "execution_count": 4,
   "metadata": {},
   "outputs": [
    {
     "data": {
      "text/plain": [
       "0    MULTIPOLYGON (((2499226.60910 1118153.38150, 2...\n",
       "1    MULTIPOLYGON (((2499226.60910 1118153.38150, 2...\n",
       "2    MULTIPOLYGON (((2500487.03060 1118790.81660, 2...\n",
       "3    MULTIPOLYGON (((2500487.03060 1118790.81660, 2...\n",
       "4    MULTIPOLYGON (((2499261.38270 1118999.65540, 2...\n",
       "Name: geometry, dtype: geometry"
      ]
     },
     "metadata": {},
     "output_type": "display_data"
    },
    {
     "data": {
      "text/plain": [
       "0    MULTIPOLYGON (((2499226.609 1118153.381, 24992...\n",
       "1    MULTIPOLYGON (((2499226.609 1118153.381, 24992...\n",
       "2    MULTIPOLYGON (((2500487.031 1118790.817, 25004...\n",
       "3    MULTIPOLYGON (((2500487.031 1118790.817, 25004...\n",
       "4    MULTIPOLYGON (((2499261.383 1118999.655, 24992...\n",
       "Name: geometry, dtype: geometry"
      ]
     },
     "metadata": {},
     "output_type": "display_data"
    },
    {
     "data": {
      "text/plain": [
       "0    MULTIPOLYGON (((6.13290 46.20727, 6.13282 46.2...\n",
       "1    MULTIPOLYGON (((6.13290 46.20727, 6.13282 46.2...\n",
       "2    MULTIPOLYGON (((6.14909 46.21319, 6.14903 46.2...\n",
       "3    MULTIPOLYGON (((6.14909 46.21319, 6.14903 46.2...\n",
       "4    MULTIPOLYGON (((6.13317 46.21489, 6.13315 46.2...\n",
       "Name: geometry, dtype: geometry"
      ]
     },
     "metadata": {},
     "output_type": "display_data"
    }
   ],
   "source": [
    "import plotly.express as px\n",
    "import pandas as pd\n",
    "import geojson\n",
    "import json\n",
    "import geopandas as gpd\n",
    "\n",
    "gdf = gpd.read_file(r\"C:\\Users\\denis.iglesias\\Documents\\Project_VI_IDC\\test\\indice3ans_epsg_2056.geojson\")\n",
    "display(gdf['geometry'].head())\n",
    "gdf = gdf.set_crs('epsg:2056', allow_override=True)\n",
    "display(gdf['geometry'].head())\n",
    "gdf = gdf.to_crs('epsg:4326')\n",
    "display(gdf['geometry'].head())\n",
    "\n",
    "gdf.to_file(r\"C:\\Users\\denis.iglesias\\Documents\\Project_VI_IDC\\test\\indice3ans_epsg_4326.geojson\", driver='GeoJSON')  "
   ]
  },
  {
   "cell_type": "code",
   "execution_count": 3,
   "metadata": {},
   "outputs": [],
   "source": [
    "import plotly.express as px\n",
    "import pandas as pd\n",
    "import geojson\n",
    "import json\n",
    "import geopandas as gpd"
   ]
  },
  {
   "cell_type": "code",
   "execution_count": 5,
   "metadata": {},
   "outputs": [],
   "source": [
    "gdf = gpd.read_file(r\"C:\\Users\\denis\\sourcetree\\Project_VI_IDC\\test\\indice3ans_epsg_4326.geojson\")"
   ]
  },
  {
   "cell_type": "code",
   "execution_count": 8,
   "metadata": {},
   "outputs": [],
   "source": [
    "gdf = gdf[['EGID', 'ADRESSE', 'ANNEE', 'SRE', 'INDICE', 'geometry']]"
   ]
  },
  {
   "cell_type": "code",
   "execution_count": 9,
   "metadata": {},
   "outputs": [],
   "source": [
    "gdf.to_file(r\"C:\\Users\\denis.iglesias\\Documents\\Project_VI_IDC\\test\\indice3ans_epsg_4326_light.geojson\", driver='GeoJSON')  "
   ]
  },
  {
   "cell_type": "code",
   "execution_count": 4,
   "metadata": {},
   "outputs": [],
   "source": [
    "with open(r\"C:\\Users\\denis.iglesias\\sourcetree\\Project_VI_IDC\\test\\indice3ans_epsg_4326_light.geojson\", encoding='latin1') as f:\n",
    "    geojson_idc = geojson.load(f)"
   ]
  },
  {
   "cell_type": "code",
   "execution_count": 22,
   "metadata": {},
   "outputs": [
    {
     "data": {
      "text/plain": [
       "46.207271"
      ]
     },
     "metadata": {},
     "output_type": "display_data"
    },
    {
     "name": "stdout",
     "output_type": "stream",
     "text": [
      "33630\n"
     ]
    }
   ],
   "source": [
    "display(geojson_idc['features'][0]['geometry']['coordinates'][0][0][0][1])\n",
    "\n",
    "nom_rue = 'Rue CAVOUR 22'\n",
    "\n",
    "for i in range(1000000):\n",
    "    if geojson_idc['features'][i]['properties']['ADRESSE'] == nom_rue:\n",
    "        coordonnees_rue_lon = geojson_idc['features'][i]['geometry']['coordinates'][0][0][0][0]\n",
    "        coordonnees_rue_lat = geojson_idc['features'][i]['geometry']['coordinates'][0][0][0][1]\n",
    "        break\n",
    "    "
   ]
  },
  {
   "cell_type": "code",
   "execution_count": 23,
   "metadata": {},
   "outputs": [],
   "source": [
    "df1 = pd.read_csv(r\"C:\\Users\\denis.iglesias\\sourcetree\\Project_VI_IDC\\SCANE_INDICE_MOYENNES_3_ANS.csv\", sep=';', usecols= ['ANNEE', 'EGID', 'ADRESSE', 'SRE', 'INDICE'], encoding='latin1')"
   ]
  },
  {
   "cell_type": "code",
   "execution_count": 48,
   "metadata": {},
   "outputs": [
    {
     "data": {
      "text/plain": [
       "array([\" L'Ancienne-Route 11\", \" L'Ancienne-Route 15\",\n",
       "       \" L'Ancienne-Route 17\", ..., 'rue corraterie 22',\n",
       "       'rue de Berne 57 bât cour', 'rue du Nant 22'], dtype=object)"
      ]
     },
     "metadata": {},
     "output_type": "display_data"
    },
    {
     "data": {
      "text/html": [
       "<div>\n",
       "<style scoped>\n",
       "    .dataframe tbody tr th:only-of-type {\n",
       "        vertical-align: middle;\n",
       "    }\n",
       "\n",
       "    .dataframe tbody tr th {\n",
       "        vertical-align: top;\n",
       "    }\n",
       "\n",
       "    .dataframe thead th {\n",
       "        text-align: right;\n",
       "    }\n",
       "</style>\n",
       "<table border=\"1\" class=\"dataframe\">\n",
       "  <thead>\n",
       "    <tr style=\"text-align: right;\">\n",
       "      <th></th>\n",
       "      <th>EGID</th>\n",
       "      <th>ADRESSE</th>\n",
       "      <th>ANNEE</th>\n",
       "      <th>SRE</th>\n",
       "      <th>INDICE</th>\n",
       "    </tr>\n",
       "  </thead>\n",
       "  <tbody>\n",
       "    <tr>\n",
       "      <th>0</th>\n",
       "      <td>1011407.0</td>\n",
       "      <td>Rue du Prieuré 25</td>\n",
       "      <td>2014</td>\n",
       "      <td>1290.10</td>\n",
       "      <td>487.0</td>\n",
       "    </tr>\n",
       "    <tr>\n",
       "      <th>1</th>\n",
       "      <td>1011743.0</td>\n",
       "      <td>Rue du Léman 8</td>\n",
       "      <td>2014</td>\n",
       "      <td>1074.70</td>\n",
       "      <td>590.0</td>\n",
       "    </tr>\n",
       "    <tr>\n",
       "      <th>2</th>\n",
       "      <td>1022643.0</td>\n",
       "      <td>Chemin de Foulon 15</td>\n",
       "      <td>2014</td>\n",
       "      <td>195.70</td>\n",
       "      <td>383.0</td>\n",
       "    </tr>\n",
       "    <tr>\n",
       "      <th>3</th>\n",
       "      <td>295112850.0</td>\n",
       "      <td>Rue de La-Tambourine 12</td>\n",
       "      <td>2014</td>\n",
       "      <td>1994.00</td>\n",
       "      <td>352.0</td>\n",
       "    </tr>\n",
       "    <tr>\n",
       "      <th>4</th>\n",
       "      <td>2034774.0</td>\n",
       "      <td>Chemin du Centurion 5</td>\n",
       "      <td>2014</td>\n",
       "      <td>1468.00</td>\n",
       "      <td>553.0</td>\n",
       "    </tr>\n",
       "    <tr>\n",
       "      <th>...</th>\n",
       "      <td>...</td>\n",
       "      <td>...</td>\n",
       "      <td>...</td>\n",
       "      <td>...</td>\n",
       "      <td>...</td>\n",
       "    </tr>\n",
       "    <tr>\n",
       "      <th>182586</th>\n",
       "      <td>1019005.0</td>\n",
       "      <td>Chemin de Vert-Pré 3</td>\n",
       "      <td>2017</td>\n",
       "      <td>2187.00</td>\n",
       "      <td>482.0</td>\n",
       "    </tr>\n",
       "    <tr>\n",
       "      <th>182587</th>\n",
       "      <td>1003156.0</td>\n",
       "      <td>Rue Adolphe-FONTANEL 7</td>\n",
       "      <td>2017</td>\n",
       "      <td>835.00</td>\n",
       "      <td>553.0</td>\n",
       "    </tr>\n",
       "    <tr>\n",
       "      <th>182588</th>\n",
       "      <td>1011204.0</td>\n",
       "      <td>Rue VOLTAIRE 10</td>\n",
       "      <td>2016</td>\n",
       "      <td>1943.94</td>\n",
       "      <td>405.0</td>\n",
       "    </tr>\n",
       "    <tr>\n",
       "      <th>182589</th>\n",
       "      <td>1026995.0</td>\n",
       "      <td>Route de Sous-Moulin 39</td>\n",
       "      <td>2015</td>\n",
       "      <td>6316.28</td>\n",
       "      <td>668.0</td>\n",
       "    </tr>\n",
       "    <tr>\n",
       "      <th>182590</th>\n",
       "      <td>1015957.0</td>\n",
       "      <td>Route de Meyrin 5</td>\n",
       "      <td>2017</td>\n",
       "      <td>1700.00</td>\n",
       "      <td>509.0</td>\n",
       "    </tr>\n",
       "  </tbody>\n",
       "</table>\n",
       "<p>182591 rows × 5 columns</p>\n",
       "</div>"
      ],
      "text/plain": [
       "               EGID                  ADRESSE  ANNEE      SRE  INDICE\n",
       "0         1011407.0        Rue du Prieuré 25   2014  1290.10   487.0\n",
       "1         1011743.0           Rue du Léman 8   2014  1074.70   590.0\n",
       "2         1022643.0      Chemin de Foulon 15   2014   195.70   383.0\n",
       "3       295112850.0  Rue de La-Tambourine 12   2014  1994.00   352.0\n",
       "4         2034774.0    Chemin du Centurion 5   2014  1468.00   553.0\n",
       "...             ...                      ...    ...      ...     ...\n",
       "182586    1019005.0     Chemin de Vert-Pré 3   2017  2187.00   482.0\n",
       "182587    1003156.0   Rue Adolphe-FONTANEL 7   2017   835.00   553.0\n",
       "182588    1011204.0          Rue VOLTAIRE 10   2016  1943.94   405.0\n",
       "182589    1026995.0  Route de Sous-Moulin 39   2015  6316.28   668.0\n",
       "182590    1015957.0        Route de Meyrin 5   2017  1700.00   509.0\n",
       "\n",
       "[182591 rows x 5 columns]"
      ]
     },
     "metadata": {},
     "output_type": "display_data"
    }
   ],
   "source": [
    "import numpy as np\n",
    "\n",
    "df1['ADRESSE'] = df1['ADRESSE'].astype(str)\n",
    "dropdown_rues = df1.ADRESSE.unique()\n",
    "dropdown_rues = np.sort(dropdown_rues)\n",
    "display(dropdown_rues)\n",
    "display(df1)"
   ]
  }
 ],
 "metadata": {
  "kernelspec": {
   "display_name": "Python 3.9.13 ('base')",
   "language": "python",
   "name": "python3"
  },
  "language_info": {
   "codemirror_mode": {
    "name": "ipython",
    "version": 3
   },
   "file_extension": ".py",
   "mimetype": "text/x-python",
   "name": "python",
   "nbconvert_exporter": "python",
   "pygments_lexer": "ipython3",
   "version": "3.9.13"
  },
  "orig_nbformat": 4,
  "vscode": {
   "interpreter": {
    "hash": "ad2bdc8ecc057115af97d19610ffacc2b4e99fae6737bb82f5d7fb13d2f2c186"
   }
  }
 },
 "nbformat": 4,
 "nbformat_minor": 2
}
